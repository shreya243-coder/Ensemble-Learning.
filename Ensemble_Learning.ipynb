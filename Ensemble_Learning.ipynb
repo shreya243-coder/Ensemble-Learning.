{
  "nbformat": 4,
  "nbformat_minor": 0,
  "metadata": {
    "colab": {
      "provenance": []
    },
    "kernelspec": {
      "name": "python3",
      "display_name": "Python 3"
    },
    "language_info": {
      "name": "python"
    }
  },
  "cells": [
    {
      "cell_type": "markdown",
      "source": [
        "#Theoratical question\n"
      ],
      "metadata": {
        "id": "7nZHZlOMrP7x"
      }
    },
    {
      "cell_type": "markdown",
      "source": [
        "\n",
        "1. **Can we use Bagging for regression problems?**\n",
        "   Yes, Bagging works for regression by training multiple regressors and averaging their outputs to give the final prediction.\n",
        "\n",
        "2. **Difference between multiple model training and single model training:**\n",
        "   Single model uses the entire data once. Multiple model training uses subsets or different approaches to create and combine many models.\n",
        "\n",
        "3. **Feature randomness in Random Forest:**\n",
        "   Random Forest picks a random subset of features at each tree split, making trees diverse and reducing overfitting.\n",
        "\n",
        "4. **What is OOB (Out-of-Bag) Score?**\n",
        "   It’s the accuracy measured using data not included in a tree’s training set—like a built-in test set for evaluation.\n",
        "\n",
        "5. **How to measure feature importance in Random Forest?**\n",
        "   It measures how much a feature helps reduce impurity or affects prediction accuracy when values are shuffled.\n",
        "\n",
        "6. **Working principle of a Bagging Classifier:**\n",
        "   It trains multiple classifiers on random subsets (bootstrapped data) and takes a majority vote for final classification.\n",
        "\n",
        "7. **Evaluating Bagging Classifier performance:**\n",
        "   Use accuracy, precision, recall, F1-score, or OOB score if enabled to assess how well it predicts.\n",
        "\n",
        "8. **How does a Bagging Regressor work?**\n",
        "   It trains multiple regressors on bootstrapped data and averages their predictions for the final result.\n",
        "\n",
        "9. **Main advantage of ensemble techniques:**\n",
        "   They improve model accuracy, reduce overfitting, and work better than individual models in most cases.\n",
        "\n",
        "10. **Main challenge of ensemble methods:**\n",
        "    They are complex, need more computation, and are harder to interpret than single models.\n",
        "\n",
        "11. **Key idea behind ensemble techniques:**\n",
        "    Combine predictions from multiple models to create a stronger, more accurate one.\n",
        "\n",
        "12. **What is a Random Forest Classifier?**\n",
        "    It’s an ensemble of decision trees using Bagging and feature randomness, predicting via majority voting.\n",
        "\n",
        "13. **Main types of ensemble techniques:**\n",
        "    Bagging, Boosting, and Stacking are the three major types, differing in how models are combined.\n",
        "\n",
        "14. **What is ensemble learning in ML?**\n",
        "    It’s a technique where several models work together to improve overall prediction performance.\n",
        "\n",
        "15. **When to avoid ensemble methods?**\n",
        "    Avoid them with small datasets, when speed or model interpretability is more important.\n",
        "\n",
        "16. **How Bagging reduces overfitting:**\n",
        "    It reduces variance by averaging models trained on different data, making the overall model more stable.\n",
        "\n",
        "17. **Why Random Forest > single Decision Tree?**\n",
        "    It handles noise and overfitting better by averaging predictions from many diverse trees.\n",
        "\n",
        "18. **Role of bootstrap sampling in Bagging:**\n",
        "    It creates diverse training sets by randomly sampling with replacement, helping build varied models.\n",
        "\n",
        "19. **Real-world applications of ensemble techniques:**\n",
        "    Used in fraud detection, medical diagnosis, stock market prediction, and recommendation systems.\n",
        "\n",
        "20. **Difference between Bagging and Boosting:**\n",
        "    Bagging trains models independently and reduces variance. Boosting trains models sequentially to fix errors and reduce bias.\n",
        "\n"
      ],
      "metadata": {
        "id": "MaYqEt1arpcV"
      }
    },
    {
      "cell_type": "markdown",
      "source": [
        "#Practical questions"
      ],
      "metadata": {
        "id": "AHlp-UMAsXpW"
      }
    },
    {
      "cell_type": "code",
      "source": [
        "#21. Train a Bagging Classifier using Decision Trees on a sample dataset and print model accuracy\n",
        "\n",
        "from sklearn.datasets import load_iris\n",
        "from sklearn.model_selection import train_test_split\n",
        "from sklearn.ensemble import BaggingClassifier\n",
        "from sklearn.tree import DecisionTreeClassifier\n",
        "from sklearn.metrics import accuracy_score\n",
        "\n",
        "data = load_iris()\n",
        "X = data.data\n",
        "y = data.target\n",
        "\n",
        "X_train, X_test, y_train, y_test = train_test_split(\n",
        "    X, y, test_size=0.3, random_state=42\n",
        ")\n",
        "\n",
        "bagging_clf = BaggingClassifier(\n",
        "    estimator=DecisionTreeClassifier(),\n",
        "    n_estimators=10,\n",
        "    random_state=42\n",
        ")\n",
        "\n",
        "bagging_clf.fit(X_train, y_train)\n",
        "\n",
        "y_pred = bagging_clf.predict(X_test)\n",
        "accuracy = accuracy_score(y_test, y_pred)\n",
        "print(\"Bagging Classifier Accuracy:\", accuracy)\n"
      ],
      "metadata": {
        "colab": {
          "base_uri": "https://localhost:8080/"
        },
        "id": "6euiIWpUscVW",
        "outputId": "21ee9713-2458-428f-b689-615d04f929b0"
      },
      "execution_count": 3,
      "outputs": [
        {
          "output_type": "stream",
          "name": "stdout",
          "text": [
            "Bagging Classifier Accuracy: 1.0\n"
          ]
        }
      ]
    },
    {
      "cell_type": "code",
      "source": [
        "#22. Train a Bagging Regressor using Decision Trees and evaluate using Mean Squared Error (MSE)\n",
        "\n",
        "from sklearn.datasets import load_diabetes\n",
        "from sklearn.model_selection import train_test_split\n",
        "from sklearn.ensemble import BaggingRegressor\n",
        "from sklearn.tree import DecisionTreeRegressor\n",
        "from sklearn.metrics import mean_squared_error\n",
        "\n",
        "data = load_diabetes()\n",
        "X = data.data\n",
        "y = data.target\n",
        "\n",
        "X_train, X_test, y_train, y_test = train_test_split(X, y, test_size=0.3, random_state=42)\n",
        "\n",
        "bagging_reg = BaggingRegressor(\n",
        "    estimator=DecisionTreeRegressor(),\n",
        "    n_estimators=10,\n",
        "    random_state=42\n",
        ")\n",
        "\n",
        "bagging_reg.fit(X_train, y_train)\n",
        "\n",
        "y_pred = bagging_reg.predict(X_test)\n",
        "mse = mean_squared_error(y_test, y_pred)\n",
        "print(\"Bagging Regressor Mean Squared Error:\", mse)\n",
        "\n"
      ],
      "metadata": {
        "colab": {
          "base_uri": "https://localhost:8080/"
        },
        "id": "vyAzZsPmte1n",
        "outputId": "47743a32-c181-46d0-d56e-9a57a29e210f"
      },
      "execution_count": 4,
      "outputs": [
        {
          "output_type": "stream",
          "name": "stdout",
          "text": [
            "Bagging Regressor Mean Squared Error: 3237.526541353384\n"
          ]
        }
      ]
    },
    {
      "cell_type": "code",
      "source": [
        "#23. Train a Random Forest Classifier on the Breast Cancer dataset and print feature importance scores\n",
        "\n",
        "from sklearn.datasets import load_breast_cancer\n",
        "from sklearn.model_selection import train_test_split\n",
        "from sklearn.ensemble import RandomForestClassifier\n",
        "\n",
        "breast_cancer_data = load_breast_cancer()\n",
        "X = breast_cancer_data.data\n",
        "y = breast_cancer_data.target\n",
        "\n",
        "X_train, X_test, y_train, y_test = train_test_split(X, y, test_size=0.3, random_state=42)\n",
        "\n",
        "rf_clf = RandomForestClassifier(n_estimators=100, random_state=42)\n",
        "\n",
        "rf_clf.fit(X_train, y_train)\n",
        "\n",
        "feature_importances = rf_clf.feature_importances_\n",
        "\n",
        "feature_names = breast_cancer_data.feature_names\n",
        "\n",
        "print(\"Feature Importance Scores:\")\n",
        "for name, importance in zip(feature_names, feature_importances):\n",
        "  print(f\"{name}: {importance:.4f}\")\n"
      ],
      "metadata": {
        "colab": {
          "base_uri": "https://localhost:8080/"
        },
        "id": "I4hK8r--tlOD",
        "outputId": "564bf881-320c-4f50-dfb4-43883dc9f72e"
      },
      "execution_count": 5,
      "outputs": [
        {
          "output_type": "stream",
          "name": "stdout",
          "text": [
            "Feature Importance Scores:\n",
            "mean radius: 0.0323\n",
            "mean texture: 0.0111\n",
            "mean perimeter: 0.0601\n",
            "mean area: 0.0538\n",
            "mean smoothness: 0.0062\n",
            "mean compactness: 0.0092\n",
            "mean concavity: 0.0806\n",
            "mean concave points: 0.1419\n",
            "mean symmetry: 0.0033\n",
            "mean fractal dimension: 0.0031\n",
            "radius error: 0.0164\n",
            "texture error: 0.0032\n",
            "perimeter error: 0.0118\n",
            "area error: 0.0295\n",
            "smoothness error: 0.0059\n",
            "compactness error: 0.0046\n",
            "concavity error: 0.0058\n",
            "concave points error: 0.0034\n",
            "symmetry error: 0.0040\n",
            "fractal dimension error: 0.0071\n",
            "worst radius: 0.0780\n",
            "worst texture: 0.0188\n",
            "worst perimeter: 0.0743\n",
            "worst area: 0.1182\n",
            "worst smoothness: 0.0118\n",
            "worst compactness: 0.0175\n",
            "worst concavity: 0.0411\n",
            "worst concave points: 0.1271\n",
            "worst symmetry: 0.0129\n",
            "worst fractal dimension: 0.0069\n"
          ]
        }
      ]
    },
    {
      "cell_type": "code",
      "source": [
        "# 24. Train a Random Forest Regressor and compare its performance with a single Decision Tree\n",
        "\n",
        "from sklearn.ensemble import RandomForestRegressor\n",
        "\n",
        "data = load_diabetes()\n",
        "X = data.data\n",
        "y = data.target\n",
        "\n",
        "X_train, X_test, y_train, y_test = train_test_split(X, y, test_size=0.3, random_state=42)\n",
        "\n",
        "dt_reg = DecisionTreeRegressor(random_state=42)\n",
        "\n",
        "dt_reg.fit(X_train, y_train)\n",
        "\n",
        "y_pred_dt = dt_reg.predict(X_test)\n",
        "\n",
        "mse_dt = mean_squared_error(y_test, y_pred_dt)\n",
        "print(\"Decision Tree Regressor Mean Squared Error:\", mse_dt)\n",
        "\n",
        "rf_reg = RandomForestRegressor(n_estimators=100, random_state=42)\n",
        "\n",
        "rf_reg.fit(X_train, y_train)\n",
        "\n",
        "y_pred_rf = rf_reg.predict(X_test)\n",
        "\n",
        "mse_rf = mean_squared_error(y_test, y_pred_rf)\n",
        "print(\"Random Forest Regressor Mean Squared Error:\", mse_rf)\n",
        "\n",
        "print(\"\\nComparison of performance:\")\n",
        "print(f\"Decision Tree MSE: {mse_dt:.4f}\")\n",
        "print(f\"Random Forest MSE: {mse_rf:.4f}\")"
      ],
      "metadata": {
        "colab": {
          "base_uri": "https://localhost:8080/"
        },
        "id": "9J6kSfLAtwIV",
        "outputId": "b84eb490-c190-48e6-e36b-ebd7c4d800e7"
      },
      "execution_count": 6,
      "outputs": [
        {
          "output_type": "stream",
          "name": "stdout",
          "text": [
            "Decision Tree Regressor Mean Squared Error: 5697.789473684211\n",
            "Random Forest Regressor Mean Squared Error: 2859.641982706767\n",
            "\n",
            "Comparison of performance:\n",
            "Decision Tree MSE: 5697.7895\n",
            "Random Forest MSE: 2859.6420\n"
          ]
        }
      ]
    },
    {
      "cell_type": "code",
      "source": [
        "# 25. Compute the Out-of-Bag (OOB) Score for a Random Forest Classifier\n",
        "\n",
        "rf_clf_oob = RandomForestClassifier(n_estimators=100, random_state=42, oob_score=True)\n",
        "\n",
        "rf_clf_oob.fit(X_train, y_train)\n",
        "\n",
        "oob_score = rf_clf_oob.oob_score_\n",
        "print(\"\\nOut-of-Bag Score for Random Forest Classifier:\", oob_score)"
      ],
      "metadata": {
        "colab": {
          "base_uri": "https://localhost:8080/"
        },
        "id": "xSxA8Efxt7C9",
        "outputId": "23601ee1-8bc7-47a7-845a-5729309e4569"
      },
      "execution_count": 7,
      "outputs": [
        {
          "output_type": "stream",
          "name": "stdout",
          "text": [
            "\n",
            "Out-of-Bag Score for Random Forest Classifier: 0.006472491909385114\n"
          ]
        }
      ]
    },
    {
      "cell_type": "code",
      "source": [
        "#26. Train a Bagging Classifier using SVM as a base estimator and print accuracy\n",
        "\n",
        "from sklearn.svm import SVC\n",
        "\n",
        "bagging_clf_svm = BaggingClassifier(\n",
        "    estimator=SVC(),\n",
        "    n_estimators=10,\n",
        "    random_state=42\n",
        ")\n",
        "\n",
        "bagging_clf_svm.fit(X_train, y_train)\n",
        "\n",
        "y_pred_svm = bagging_clf_svm.predict(X_test)\n",
        "accuracy_svm = accuracy_score(y_test, y_pred_svm)\n",
        "print(\"Bagging Classifier with SVM Accuracy:\", accuracy_svm)"
      ],
      "metadata": {
        "colab": {
          "base_uri": "https://localhost:8080/"
        },
        "id": "BrU5OfJ9uHHo",
        "outputId": "7662425b-ef10-417f-db22-b915caa918f5"
      },
      "execution_count": 8,
      "outputs": [
        {
          "output_type": "stream",
          "name": "stdout",
          "text": [
            "Bagging Classifier with SVM Accuracy: 0.03007518796992481\n"
          ]
        }
      ]
    },
    {
      "cell_type": "code",
      "source": [
        "#27. Train a Random Forest Classifier with different numbers of trees and compare accuracy\n",
        "\n",
        "n_estimators_list = [10, 50, 100, 200]\n",
        "accuracy_scores = {}\n",
        "\n",
        "print(\"\\nComparing Random Forest Classifier Accuracy with different n_estimators:\")\n",
        "for n_estimators in n_estimators_list:\n",
        "  rf_clf = RandomForestClassifier(n_estimators=n_estimators, random_state=42)\n",
        "  rf_clf.fit(X_train, y_train)\n",
        "  y_pred = rf_clf.predict(X_test)\n",
        "  accuracy = accuracy_score(y_test, y_pred)\n",
        "  accuracy_scores[n_estimators] = accuracy\n",
        "  print(f\"  n_estimators = {n_estimators}: Accuracy = {accuracy:.4f}\")\n",
        "\n",
        "print(\"\\nSummary of Accuracy Scores:\")\n",
        "for n_estimators, accuracy in accuracy_scores.items():\n",
        "  print(f\"  {n_estimators} trees: {accuracy:.4f}\")"
      ],
      "metadata": {
        "colab": {
          "base_uri": "https://localhost:8080/"
        },
        "id": "KeH6u_IpuR-i",
        "outputId": "2bb47c99-4f36-43ca-998b-f06fdba73bcf"
      },
      "execution_count": 9,
      "outputs": [
        {
          "output_type": "stream",
          "name": "stdout",
          "text": [
            "\n",
            "Comparing Random Forest Classifier Accuracy with different n_estimators:\n",
            "  n_estimators = 10: Accuracy = 0.0000\n",
            "  n_estimators = 50: Accuracy = 0.0075\n",
            "  n_estimators = 100: Accuracy = 0.0075\n",
            "  n_estimators = 200: Accuracy = 0.0075\n",
            "\n",
            "Summary of Accuracy Scores:\n",
            "  10 trees: 0.0000\n",
            "  50 trees: 0.0075\n",
            "  100 trees: 0.0075\n",
            "  200 trees: 0.0075\n"
          ]
        }
      ]
    },
    {
      "cell_type": "code",
      "source": [
        "# 28. Train a Bagging Classifier using Logistic Regression as a base estimator and print AUC score\n",
        "\n",
        "from sklearn.linear_model import LogisticRegression\n",
        "from sklearn.metrics import roc_auc_score\n",
        "\n",
        "breast_cancer_data = load_breast_cancer()\n",
        "X = breast_cancer_data.data\n",
        "y = breast_cancer_data.target\n",
        "\n",
        "X_train, X_test, y_train, y_test = train_test_split(X, y, test_size=0.3, random_state=42)\n",
        "\n",
        "bagging_clf_lr = BaggingClassifier(\n",
        "    estimator=LogisticRegression(solver='liblinear', random_state=42),\n",
        "    n_estimators=10,\n",
        "    random_state=42\n",
        ")\n",
        "\n",
        "bagging_clf_lr.fit(X_train, y_train)\n",
        "\n",
        "y_pred_proba = bagging_clf_lr.predict_proba(X_test)[:, 1]\n",
        "\n",
        "auc_score = roc_auc_score(y_test, y_pred_proba)\n",
        "\n",
        "print(\"Bagging Classifier with Logistic Regression AUC Score:\", auc_score)"
      ],
      "metadata": {
        "colab": {
          "base_uri": "https://localhost:8080/"
        },
        "id": "BlGbjFrzuaB2",
        "outputId": "8becd0b4-3e4a-4fc6-8fde-6ce4a5840ca0"
      },
      "execution_count": 10,
      "outputs": [
        {
          "output_type": "stream",
          "name": "stdout",
          "text": [
            "Bagging Classifier with Logistic Regression AUC Score: 0.9977954144620812\n"
          ]
        }
      ]
    },
    {
      "cell_type": "code",
      "source": [
        "#29. Train a Random Forest Regressor and analyze feature importance scores\n",
        "\n",
        "from sklearn.datasets import fetch_california_housing\n",
        "from sklearn.ensemble import RandomForestRegressor\n",
        "from sklearn.model_selection import train_test_split\n",
        "from sklearn.metrics import r2_score\n",
        "import pandas as pd\n",
        "import matplotlib.pyplot as plt\n",
        "\n",
        "data = fetch_california_housing()\n",
        "X = pd.DataFrame(data.data, columns=data.feature_names)\n",
        "y = data.target\n",
        "\n",
        "X_train, X_test, y_train, y_test = train_test_split(\n",
        "    X, y, test_size=0.3, random_state=42\n",
        ")\n",
        "\n",
        "rf = RandomForestRegressor(n_estimators=100, random_state=42)\n",
        "rf.fit(X_train, y_train)\n",
        "\n",
        "y_pred = rf.predict(X_test)\n",
        "print(\"R² Score:\", r2_score(y_test, y_pred))\n",
        "\n",
        "importances = rf.feature_importances_\n",
        "feature_importance_df = pd.DataFrame({\n",
        "    'Feature': X.columns,\n",
        "    'Importance': importances\n",
        "}).sort_values(by='Importance', ascending=False)\n",
        "\n",
        "print(\"\\nFeature Importance Scores:\\n\", feature_importance_df)\n",
        "\n",
        "plt.figure(figsize=(10, 6))\n",
        "plt.barh(feature_importance_df['Feature'], feature_importance_df['Importance'])\n",
        "plt.gca().invert_yaxis()\n",
        "plt.title(\"Feature Importance in Random Forest Regressor\")\n",
        "plt.xlabel(\"Importance Score\")\n",
        "plt.show()\n",
        "\n"
      ],
      "metadata": {
        "colab": {
          "base_uri": "https://localhost:8080/",
          "height": 772
        },
        "id": "YdOrBXSjuq_9",
        "outputId": "2d766077-4b75-4489-b869-2ca330fe1d9e"
      },
      "execution_count": 12,
      "outputs": [
        {
          "output_type": "stream",
          "name": "stdout",
          "text": [
            "R² Score: 0.8045734925119942\n",
            "\n",
            "Feature Importance Scores:\n",
            "       Feature  Importance\n",
            "0      MedInc    0.526011\n",
            "5    AveOccup    0.138220\n",
            "7   Longitude    0.086124\n",
            "6    Latitude    0.086086\n",
            "1    HouseAge    0.054654\n",
            "2    AveRooms    0.047188\n",
            "4  Population    0.031722\n",
            "3   AveBedrms    0.029995\n"
          ]
        },
        {
          "output_type": "display_data",
          "data": {
            "text/plain": [
              "<Figure size 1000x600 with 1 Axes>"
            ],
            "image/png": "[encoded data removed]"
          },
          "metadata": {}
        }
      ]
    },
    {
      "cell_type": "code",
      "source": [
        "# 30. Train an ensemble model using both Bagging and Random Forest and compare accuracy\n",
        "\n",
        "from sklearn.datasets import load_iris\n",
        "from sklearn.model_selection import train_test_split\n",
        "from sklearn.tree import DecisionTreeClassifier\n",
        "from sklearn.ensemble import BaggingClassifier, RandomForestClassifier\n",
        "from sklearn.metrics import accuracy_score\n",
        "\n",
        "data = load_iris()\n",
        "X = data.data\n",
        "y = data.target\n",
        "\n",
        "X_train, X_test, y_train, y_test = train_test_split(\n",
        "    X, y, test_size=0.3, random_state=42\n",
        ")\n",
        "\n",
        "bagging_model = BaggingClassifier(\n",
        "    estimator=DecisionTreeClassifier(),\n",
        "    n_estimators=50,\n",
        "    random_state=42\n",
        ")\n",
        "bagging_model.fit(X_train, y_train)\n",
        "bagging_pred = bagging_model.predict(X_test)\n",
        "bagging_acc = accuracy_score(y_test, bagging_pred)\n",
        "\n",
        "rf_model = RandomForestClassifier(n_estimators=50, random_state=42)\n",
        "rf_model.fit(X_train, y_train)\n",
        "rf_pred = rf_model.predict(X_test)\n",
        "rf_acc = accuracy_score(y_test, rf_pred)\n",
        "\n",
        "print(\"Bagging Classifier Accuracy:\", bagging_acc)\n",
        "print(\"Random Forest Classifier Accuracy:\", rf_acc)\n"
      ],
      "metadata": {
        "colab": {
          "base_uri": "https://localhost:8080/"
        },
        "id": "MloP26s3vHBX",
        "outputId": "5862521c-920e-43f7-d2dd-8a549f55fc71"
      },
      "execution_count": 14,
      "outputs": [
        {
          "output_type": "stream",
          "name": "stdout",
          "text": [
            "Bagging Classifier Accuracy: 1.0\n",
            "Random Forest Classifier Accuracy: 1.0\n"
          ]
        }
      ]
    },
    {
      "cell_type": "code",
      "source": [
        "#31. Train a Random Forest Classifier and tune hyperparameters using GridSearchCV\n",
        "\n",
        "from sklearn.model_selection import GridSearchCV\n",
        "\n",
        "breast_cancer_data = load_breast_cancer()\n",
        "X = breast_cancer_data.data\n",
        "y = breast_cancer_data.target\n",
        "\n",
        "X_train, X_test, y_train, y_test = train_test_split(X, y, test_size=0.3, random_state=42)\n",
        "\n",
        "rf = RandomForestClassifier(random_state=42)\n",
        "\n",
        "param_grid = {\n",
        "    'n_estimators': [50, 100, 200],\n",
        "    'max_depth': [None, 10, 20],\n",
        "    'min_samples_split': [2, 5, 10],\n",
        "    'min_samples_leaf': [1, 2, 4]\n",
        "}\n",
        "\n",
        "grid_search = GridSearchCV(estimator=rf, param_grid=param_grid, cv=5, scoring='accuracy')\n",
        "\n",
        "grid_search.fit(X_train, y_train)\n",
        "\n",
        "best_params = grid_search.best_params_\n",
        "best_score = grid_search.best_score_\n",
        "\n",
        "print(\"\\nBest parameters found by GridSearchCV:\")\n",
        "print(best_params)\n",
        "print(\"\\nBest accuracy score on training data (from GridSearchCV):\", best_score)\n",
        "\n",
        "best_rf_model = grid_search.best_estimator_\n",
        "y_pred_tuned = best_rf_model.predict(X_test)\n",
        "test_accuracy = accuracy_score(y_test, y_pred_tuned)\n",
        "\n",
        "print(\"\\nAccuracy of the best tuned Random Forest Classifier on the test set:\", test_accuracy)\n"
      ],
      "metadata": {
        "colab": {
          "base_uri": "https://localhost:8080/"
        },
        "id": "zFilB2IzvZoL",
        "outputId": "3a71bf81-2b9b-40c8-aa89-259868395adf"
      },
      "execution_count": 15,
      "outputs": [
        {
          "output_type": "stream",
          "name": "stdout",
          "text": [
            "\n",
            "Best parameters found by GridSearchCV:\n",
            "{'max_depth': None, 'min_samples_leaf': 2, 'min_samples_split': 2, 'n_estimators': 200}\n",
            "\n",
            "Best accuracy score on training data (from GridSearchCV): 0.9572468354430379\n",
            "\n",
            "Accuracy of the best tuned Random Forest Classifier on the test set: 0.9707602339181286\n"
          ]
        }
      ]
    },
    {
      "cell_type": "code",
      "source": [
        "#32. Train a Bagging Regressor with different numbers of base estimators and compare performance\n",
        "\n",
        "import matplotlib.pyplot as plt\n",
        "\n",
        "data = fetch_california_housing()\n",
        "X = data.data\n",
        "y = data.target\n",
        "\n",
        "X_train, X_test, y_train, y_test = train_test_split(X, y, test_size=0.3, random_state=42)\n",
        "\n",
        "n_estimators_list = [10, 50, 100, 200, 500]\n",
        "mse_scores = {}\n",
        "\n",
        "print(\"Comparing Bagging Regressor performance with different n_estimators:\")\n",
        "for n_estimators in n_estimators_list:\n",
        "\n",
        "  bagging_reg = BaggingRegressor(\n",
        "      estimator=DecisionTreeRegressor(),\n",
        "      n_estimators=n_estimators,\n",
        "      random_state=42\n",
        "  )\n",
        "\n",
        "  bagging_reg.fit(X_train, y_train)\n",
        "\n",
        "  y_pred = bagging_reg.predict(X_test)\n",
        "  mse = mean_squared_error(y_test, y_pred)\n",
        "  mse_scores[n_estimators] = mse\n",
        "  print(f\"  n_estimators = {n_estimators}: Mean Squared Error = {mse:.4f}\")\n",
        "\n",
        "plt.figure(figsize=(10, 6))\n",
        "plt.plot(list(mse_scores.keys()), list(mse_scores.values()), marker='o')\n",
        "plt.title(\"Bagging Regressor Performance vs. Number of Estimators\")\n",
        "plt.xlabel(\"Number of Estimators\")\n",
        "plt.ylabel(\"Mean Squared Error\")\n",
        "plt.grid(True)\n",
        "plt.show()\n",
        "\n",
        "print(\"\\nSummary of Mean Squared Error Scores:\")\n",
        "for n_estimators, mse in mse_scores.items():\n",
        "  print(f\"  {n_estimators} estimators: {mse:.4f}\")"
      ],
      "metadata": {
        "colab": {
          "base_uri": "https://localhost:8080/",
          "height": 790
        },
        "id": "UGl6FdRBwGAz",
        "outputId": "7fe0129a-327d-442e-96a5-43d8ca5a2484"
      },
      "execution_count": 16,
      "outputs": [
        {
          "output_type": "stream",
          "name": "stdout",
          "text": [
            "Comparing Bagging Regressor performance with different n_estimators:\n",
            "  n_estimators = 10: Mean Squared Error = 0.2862\n",
            "  n_estimators = 50: Mean Squared Error = 0.2579\n",
            "  n_estimators = 100: Mean Squared Error = 0.2568\n",
            "  n_estimators = 200: Mean Squared Error = 0.2542\n",
            "  n_estimators = 500: Mean Squared Error = 0.2527\n"
          ]
        },
        {
          "output_type": "display_data",
          "data": {
            "text/plain": [
              "<Figure size 1000x600 with 1 Axes>"
            ],
            "image/png": "[encoded data removed]"
          },
          "metadata": {}
        },
        {
          "output_type": "stream",
          "name": "stdout",
          "text": [
            "\n",
            "Summary of Mean Squared Error Scores:\n",
            "  10 estimators: 0.2862\n",
            "  50 estimators: 0.2579\n",
            "  100 estimators: 0.2568\n",
            "  200 estimators: 0.2542\n",
            "  500 estimators: 0.2527\n"
          ]
        }
      ]
    },
    {
      "cell_type": "code",
      "source": [
        "#33. Train a Random Forest Classifier and analyze misclassified samples\n",
        "\n",
        "from sklearn.datasets import load_iris\n",
        "from sklearn.ensemble import RandomForestClassifier\n",
        "from sklearn.model_selection import train_test_split\n",
        "from sklearn.metrics import accuracy_score, confusion_matrix\n",
        "import pandas as pd\n",
        "\n",
        "data = load_iris()\n",
        "X = pd.DataFrame(data.data, columns=data.feature_names)\n",
        "y = pd.Series(data.target, name=\"Actual\")\n",
        "\n",
        "X_train, X_test, y_train, y_test = train_test_split(\n",
        "    X, y, test_size=0.3, random_state=42\n",
        ")\n",
        "\n",
        "rf = RandomForestClassifier(n_estimators=100, random_state=42)\n",
        "rf.fit(X_train, y_train)\n",
        "\n",
        "y_pred = rf.predict(X_test)\n",
        "accuracy = accuracy_score(y_test, y_pred)\n",
        "print(\"Random Forest Classifier Accuracy:\", accuracy)\n",
        "\n",
        "misclassified_indices = y_test[y_test != y_pred].index\n",
        "misclassified_df = X_test.loc[misclassified_indices]\n",
        "misclassified_df[\"Actual\"] = y_test.loc[misclassified_indices]\n",
        "misclassified_df[\"Predicted\"] = y_pred[misclassified_indices]\n",
        "\n",
        "print(\"\\nMisclassified Samples:\")\n",
        "print(misclassified_df)\n"
      ],
      "metadata": {
        "colab": {
          "base_uri": "https://localhost:8080/"
        },
        "id": "74revyM_1LPB",
        "outputId": "1531a8dd-756b-4ae0-ce05-51f68dbffb8a"
      },
      "execution_count": 18,
      "outputs": [
        {
          "output_type": "stream",
          "name": "stdout",
          "text": [
            "Random Forest Classifier Accuracy: 1.0\n",
            "\n",
            "Misclassified Samples:\n",
            "Empty DataFrame\n",
            "Columns: [sepal length (cm), sepal width (cm), petal length (cm), petal width (cm), Actual, Predicted]\n",
            "Index: []\n"
          ]
        }
      ]
    },
    {
      "cell_type": "code",
      "source": [
        "# 34. Train a Bagging Classifier and compare its performance with a single Decision Tree Classifier\n",
        "\n",
        "data = load_iris()\n",
        "X = data.data\n",
        "y = data.target\n",
        "\n",
        "X_train, X_test, y_train, y_test = train_test_split(\n",
        "    X, y, test_size=0.3, random_state=42\n",
        ")\n",
        "\n",
        "dt_clf = DecisionTreeClassifier(random_state=42)\n",
        "\n",
        "dt_clf.fit(X_train, y_train)\n",
        "\n",
        "y_pred_dt = dt_clf.predict(X_test)\n",
        "\n",
        "accuracy_dt = accuracy_score(y_test, y_pred_dt)\n",
        "print(\"Single Decision Tree Classifier Accuracy:\", accuracy_dt)\n",
        "\n",
        "bagging_clf = BaggingClassifier(\n",
        "    estimator=DecisionTreeClassifier(),\n",
        "    n_estimators=10,\n",
        "    random_state=42\n",
        ")\n",
        "\n",
        "bagging_clf.fit(X_train, y_train)\n",
        "\n",
        "y_pred_bagging = bagging_clf.predict(X_test)\n",
        "\n",
        "accuracy_bagging = accuracy_score(y_test, y_pred_bagging)\n",
        "print(\"Bagging Classifier Accuracy:\", accuracy_bagging)\n",
        "\n",
        "print(\"\\nComparison of performance:\")\n",
        "print(f\"Single Decision Tree Accuracy: {accuracy_dt:.4f}\")\n",
        "print(f\"Bagging Classifier Accuracy: {accuracy_bagging:.4f}\")"
      ],
      "metadata": {
        "colab": {
          "base_uri": "https://localhost:8080/"
        },
        "id": "J5hPJsms1krg",
        "outputId": "d58b06b2-75f1-4c2d-a38e-fd19b37b2dc1"
      },
      "execution_count": 19,
      "outputs": [
        {
          "output_type": "stream",
          "name": "stdout",
          "text": [
            "Single Decision Tree Classifier Accuracy: 1.0\n",
            "Bagging Classifier Accuracy: 1.0\n",
            "\n",
            "Comparison of performance:\n",
            "Single Decision Tree Accuracy: 1.0000\n",
            "Bagging Classifier Accuracy: 1.0000\n"
          ]
        }
      ]
    },
    {
      "cell_type": "code",
      "source": [
        "#35. Train a Random Forest Classifier and visualize the confusion matrix\n",
        "\n",
        "import matplotlib.pyplot as plt\n",
        "from sklearn.metrics import confusion_matrix\n",
        "import seaborn as sns\n",
        "\n",
        "breast_cancer_data = load_breast_cancer()\n",
        "X = breast_cancer_data.data\n",
        "y = breast_cancer_data.target\n",
        "class_names = breast_cancer_data.target_names\n",
        "\n",
        "X_train, X_test, y_train, y_test = train_test_split(X, y, test_size=0.3, random_state=42)\n",
        "\n",
        "rf_clf = RandomForestClassifier(n_estimators=100, random_state=42)\n",
        "\n",
        "rf_clf.fit(X_train, y_train)\n",
        "\n",
        "y_pred = rf_clf.predict(X_test)\n",
        "\n",
        "cm = confusion_matrix(y_test, y_pred)\n",
        "\n",
        "plt.figure(figsize=(8, 6))\n",
        "sns.heatmap(cm, annot=True, fmt='d', cmap='Blues', xticklabels=class_names, yticklabels=class_names)\n",
        "plt.title('Confusion Matrix for Random Forest Classifier')\n",
        "plt.xlabel('Predicted Label')\n",
        "plt.ylabel('True Label')\n",
        "plt.show()\n"
      ],
      "metadata": {
        "colab": {
          "base_uri": "https://localhost:8080/",
          "height": 564
        },
        "id": "0HerVO3v1tzc",
        "outputId": "6d9ceaa6-dd00-44f9-c5b2-a97c92b5e860"
      },
      "execution_count": 31,
      "outputs": [
        {
          "output_type": "display_data",
          "data": {
            "text/plain": [
              "<Figure size 800x600 with 2 Axes>"
            ],
            "image/png": "[encoded data removed]"
          },
          "metadata": {}
        }
      ]
    },
    {
      "cell_type": "code",
      "source": [
        "# 36. Train a Stacking Classifier using Decision Trees, SVM, and Logistic Regression, and compare accuracy\n",
        "\n",
        "from sklearn.ensemble import StackingClassifier\n",
        "from sklearn.tree import DecisionTreeClassifier\n",
        "from sklearn.svm import SVC\n",
        "from sklearn.linear_model import LogisticRegression\n",
        "from sklearn.model_selection import train_test_split\n",
        "from sklearn.metrics import accuracy_score\n",
        "from sklearn.datasets import load_iris\n",
        "\n",
        "data = load_iris()\n",
        "X = data.data\n",
        "y = data.target\n",
        "\n",
        "X_train, X_test, y_train, y_test = train_test_split(X, y, test_size=0.3, random_state=42)\n",
        "\n",
        "estimators = [\n",
        "    ('dt', DecisionTreeClassifier(random_state=42)),\n",
        "    ('svm', SVC(probability=True, random_state=42)),\n",
        "    ('lr', LogisticRegression(random_state=42))\n",
        "]\n",
        "\n",
        "final_estimator = LogisticRegression(random_state=42)\n",
        "\n",
        "stacking_clf = StackingClassifier(\n",
        "    estimators=estimators,\n",
        "    final_estimator=final_estimator\n",
        ")\n",
        "\n",
        "stacking_clf.fit(X_train, y_train)\n",
        "\n",
        "y_pred_stacking = stacking_clf.predict(X_test)\n",
        "\n",
        "accuracy_stacking = accuracy_score(y_test, y_pred_stacking)\n",
        "print(\"Stacking Classifier Accuracy:\", accuracy_stacking)\n",
        "\n",
        "dt_clf = DecisionTreeClassifier(random_state=42)\n",
        "dt_clf.fit(X_train, y_train)\n",
        "y_pred_dt = dt_clf.predict(X_test)\n",
        "accuracy_dt = accuracy_score(y_test, y_pred_dt)\n",
        "print(\"Decision Tree Accuracy:\", accuracy_dt)\n",
        "\n",
        "svm_clf = SVC(random_state=42)\n",
        "svm_clf.fit(X_train, y_train)\n",
        "y_pred_svm = svm_clf.predict(X_test)\n",
        "accuracy_svm = accuracy_score(y_test, y_pred_svm)\n",
        "print(\"SVM Accuracy:\", accuracy_svm)\n",
        "\n",
        "lr_clf = LogisticRegression(random_state=42)\n",
        "lr_clf.fit(X_train, y_train)\n",
        "y_pred_lr = lr_clf.predict(X_test)\n",
        "accuracy_lr = accuracy_score(y_test, y_pred_lr)\n",
        "print(\"Logistic Regression Accuracy:\", accuracy_lr)\n",
        "\n",
        "print(\"\\nComparison of Accuracies:\")\n",
        "print(f\"Decision Tree: {accuracy_dt:.4f}\")\n",
        "print(f\"SVM: {accuracy_svm:.4f}\")\n",
        "print(f\"Logistic Regression: {accuracy_lr:.4f}\")\n",
        "print(f\"Stacking Classifier: {accuracy_stacking:.4f}\")\n"
      ],
      "metadata": {
        "colab": {
          "base_uri": "https://localhost:8080/"
        },
        "id": "AnSJoggc2eSo",
        "outputId": "7f482edf-304f-4438-c371-fbbcaa34b5ae"
      },
      "execution_count": 21,
      "outputs": [
        {
          "output_type": "stream",
          "name": "stdout",
          "text": [
            "Stacking Classifier Accuracy: 1.0\n",
            "Decision Tree Accuracy: 1.0\n",
            "SVM Accuracy: 1.0\n",
            "Logistic Regression Accuracy: 1.0\n",
            "\n",
            "Comparison of Accuracies:\n",
            "Decision Tree: 1.0000\n",
            "SVM: 1.0000\n",
            "Logistic Regression: 1.0000\n",
            "Stacking Classifier: 1.0000\n"
          ]
        }
      ]
    },
    {
      "cell_type": "code",
      "source": [
        "#37. Train a Random Forest Classifier and print the top 5 most important features\n",
        "\n",
        "import pandas as pd\n",
        "\n",
        "breast_cancer_data = load_breast_cancer()\n",
        "X = breast_cancer_data.data\n",
        "y = breast_cancer_data.target\n",
        "feature_names = breast_cancer_data.feature_names\n",
        "\n",
        "X_train, X_test, y_train, y_test = train_test_split(X, y, test_size=0.3, random_state=42)\n",
        "\n",
        "rf_clf = RandomForestClassifier(n_estimators=100, random_state=42)\n",
        "\n",
        "rf_clf.fit(X_train, y_train)\n",
        "\n",
        "feature_importances = rf_clf.feature_importances_\n",
        "\n",
        "importance_series = pd.Series(feature_importances, index=feature_names)\n",
        "\n",
        "sorted_importance = importance_series.sort_values(ascending=False)\n",
        "\n",
        "print(\"\\nTop 5 Most Important Features:\")\n",
        "print(sorted_importance.head(5))"
      ],
      "metadata": {
        "colab": {
          "base_uri": "https://localhost:8080/"
        },
        "id": "t7ksmDeo3hv1",
        "outputId": "9e01368c-7f39-4f6c-895e-4d5ae66308c8"
      },
      "execution_count": 22,
      "outputs": [
        {
          "output_type": "stream",
          "name": "stdout",
          "text": [
            "\n",
            "Top 5 Most Important Features:\n",
            "mean concave points     0.141934\n",
            "worst concave points    0.127136\n",
            "worst area              0.118217\n",
            "mean concavity          0.080557\n",
            "worst radius            0.077975\n",
            "dtype: float64\n"
          ]
        }
      ]
    },
    {
      "cell_type": "code",
      "source": [
        "# 38. Train a Bagging Classifier and evaluate performance using Precision, Recall, and F1-score\n",
        "\n",
        "from sklearn.metrics import precision_score, recall_score, f1_score\n",
        "\n",
        "data = load_breast_cancer()\n",
        "X = data.data\n",
        "y = data.target\n",
        "\n",
        "X_train, X_test, y_train, y_test = train_test_split(X, y, test_size=0.3, random_state=42)\n",
        "\n",
        "bagging_clf = BaggingClassifier(\n",
        "    estimator=DecisionTreeClassifier(),\n",
        "    n_estimators=10,\n",
        "    random_state=42\n",
        ")\n",
        "\n",
        "bagging_clf.fit(X_train, y_train)\n",
        "\n",
        "y_pred = bagging_clf.predict(X_test)\n",
        "\n",
        "precision = precision_score(y_test, y_pred)\n",
        "recall = recall_score(y_test, y_pred)\n",
        "f1 = f1_score(y_test, y_pred)\n",
        "\n",
        "print(\"\\nBagging Classifier Performance Metrics:\")\n",
        "print(f\"  Precision: {precision:.4f}\")\n",
        "print(f\"  Recall:    {recall:.4f}\")\n",
        "print(f\"  F1-score:  {f1:.4f}\")\n"
      ],
      "metadata": {
        "colab": {
          "base_uri": "https://localhost:8080/"
        },
        "id": "GDDpGapR4xdH",
        "outputId": "0ade769c-cb7a-4f24-d6d1-d23bb371ba1f"
      },
      "execution_count": 23,
      "outputs": [
        {
          "output_type": "stream",
          "name": "stdout",
          "text": [
            "\n",
            "Bagging Classifier Performance Metrics:\n",
            "  Precision: 0.9626\n",
            "  Recall:    0.9537\n",
            "  F1-score:  0.9581\n"
          ]
        }
      ]
    },
    {
      "cell_type": "code",
      "source": [
        "# 39. Train a Random Forest Classifier and analyze the effect of max_depth on accuracy\n",
        "\n",
        "import matplotlib.pyplot as plt\n",
        "\n",
        "max_depth_list = [1, 5, 10, 20, None]\n",
        "accuracy_scores_depth = {}\n",
        "\n",
        "print(\"\\nComparing Random Forest Classifier Accuracy with different max_depth:\")\n",
        "for depth in max_depth_list:\n",
        "  rf_clf = RandomForestClassifier(n_estimators=100, max_depth=depth, random_state=42)\n",
        "  rf_clf.fit(X_train, y_train)\n",
        "  y_pred = rf_clf.predict(X_test)\n",
        "  accuracy = accuracy_score(y_test, y_pred)\n",
        "  accuracy_scores_depth[depth] = accuracy\n",
        "  print(f\"  max_depth = {depth}: Accuracy = {accuracy:.4f}\")\n",
        "\n",
        "plt.figure(figsize=(10, 6))\n",
        "plt.plot([str(d) for d in accuracy_scores_depth.keys()], list(accuracy_scores_depth.values()), marker='o')\n",
        "plt.title(\"Random Forest Classifier Accuracy vs. Max Depth\")\n",
        "plt.xlabel(\"Max Depth\")\n",
        "plt.ylabel(\"Accuracy\")\n",
        "plt.grid(True)\n",
        "plt.show()\n",
        "\n",
        "print(\"\\nSummary of Accuracy Scores by Max Depth:\")\n",
        "for depth, accuracy in accuracy_scores_depth.items():\n",
        "  print(f\"  max_depth = {depth}: {accuracy:.4f}\")\n"
      ],
      "metadata": {
        "colab": {
          "base_uri": "https://localhost:8080/",
          "height": 807
        },
        "id": "9jjbbzmj5Aft",
        "outputId": "8b53a9a8-2ecf-41de-defc-b217f430af43"
      },
      "execution_count": 24,
      "outputs": [
        {
          "output_type": "stream",
          "name": "stdout",
          "text": [
            "\n",
            "Comparing Random Forest Classifier Accuracy with different max_depth:\n",
            "  max_depth = 1: Accuracy = 0.9591\n",
            "  max_depth = 5: Accuracy = 0.9649\n",
            "  max_depth = 10: Accuracy = 0.9708\n",
            "  max_depth = 20: Accuracy = 0.9708\n",
            "  max_depth = None: Accuracy = 0.9708\n"
          ]
        },
        {
          "output_type": "display_data",
          "data": {
            "text/plain": [
              "<Figure size 1000x600 with 1 Axes>"
            ],
            "image/png": "[encoded data removed]"
          },
          "metadata": {}
        },
        {
          "output_type": "stream",
          "name": "stdout",
          "text": [
            "\n",
            "Summary of Accuracy Scores by Max Depth:\n",
            "  max_depth = 1: 0.9591\n",
            "  max_depth = 5: 0.9649\n",
            "  max_depth = 10: 0.9708\n",
            "  max_depth = 20: 0.9708\n",
            "  max_depth = None: 0.9708\n"
          ]
        }
      ]
    },
    {
      "cell_type": "code",
      "source": [
        "# 40.  Train a Bagging Regressor using different base estimators (DecisionTree and KNeighbors) and compare\n",
        "# performance\n",
        "\n",
        "from sklearn.neighbors import KNeighborsRegressor\n",
        "\n",
        "data = fetch_california_housing()\n",
        "X = data.data\n",
        "y = data.target\n",
        "\n",
        "X_train, X_test, y_train, y_test = train_test_split(X, y, test_size=0.3, random_state=42)\n",
        "\n",
        "bagging_reg_dt = BaggingRegressor(\n",
        "    estimator=DecisionTreeRegressor(),\n",
        "    n_estimators=50,\n",
        "    random_state=42\n",
        ")\n",
        "\n",
        "bagging_reg_dt.fit(X_train, y_train)\n",
        "\n",
        "y_pred_dt_bagging = bagging_reg_dt.predict(X_test)\n",
        "mse_dt_bagging = mean_squared_error(y_test, y_pred_dt_bagging)\n",
        "print(\"Bagging Regressor (Decision Tree) Mean Squared Error:\", mse_dt_bagging)\n",
        "\n",
        "bagging_reg_knn = BaggingRegressor(\n",
        "    estimator=KNeighborsRegressor(),\n",
        "    n_estimators=50,\n",
        "    random_state=42\n",
        ")\n",
        "\n",
        "bagging_reg_knn.fit(X_train, y_train)\n",
        "\n",
        "y_pred_knn_bagging = bagging_reg_knn.predict(X_test)\n",
        "mse_knn_bagging = mean_squared_error(y_test, y_pred_knn_bagging)\n",
        "print(\"Bagging Regressor (KNeighbors) Mean Squared Error:\", mse_knn_bagging)\n",
        "\n",
        "print(\"\\nComparison of Bagging Regressor Performance:\")\n",
        "print(f\"Bagging with Decision Tree MSE: {mse_dt_bagging:.4f}\")\n",
        "print(f\"Bagging with KNeighbors MSE:   {mse_knn_bagging:.4f}\")"
      ],
      "metadata": {
        "colab": {
          "base_uri": "https://localhost:8080/"
        },
        "id": "V16RIDXh5hO8",
        "outputId": "d575489e-71cf-4e26-a18c-6316c7aa382f"
      },
      "execution_count": 25,
      "outputs": [
        {
          "output_type": "stream",
          "name": "stdout",
          "text": [
            "Bagging Regressor (Decision Tree) Mean Squared Error: 0.25787382250585034\n",
            "Bagging Regressor (KNeighbors) Mean Squared Error: 1.1020902555745289\n",
            "\n",
            "Comparison of Bagging Regressor Performance:\n",
            "Bagging with Decision Tree MSE: 0.2579\n",
            "Bagging with KNeighbors MSE:   1.1021\n"
          ]
        }
      ]
    },
    {
      "cell_type": "code",
      "source": [
        "#41. Train a Random Forest Classifier and evaluate its performance using ROC-AUC Score\n",
        "\n",
        "breast_cancer_data = load_breast_cancer()\n",
        "X = breast_cancer_data.data\n",
        "y = breast_cancer_data.target\n",
        "\n",
        "X_train, X_test, y_train, y_test = train_test_split(X, y, test_size=0.3, random_state=42)\n",
        "\n",
        "rf_clf = RandomForestClassifier(n_estimators=100, random_state=42)\n",
        "\n",
        "rf_clf.fit(X_train, y_train)\n",
        "\n",
        "y_pred_proba = rf_clf.predict_proba(X_test)[:, 1]\n",
        "\n",
        "roc_auc = roc_auc_score(y_test, y_pred_proba)\n",
        "\n",
        "print(\"Random Forest Classifier ROC AUC Score:\", roc_auc)\n"
      ],
      "metadata": {
        "colab": {
          "base_uri": "https://localhost:8080/"
        },
        "id": "7zkecO5f6I7Y",
        "outputId": "2dbfd490-2395-4fc4-9cb1-9a167b70beee"
      },
      "execution_count": 26,
      "outputs": [
        {
          "output_type": "stream",
          "name": "stdout",
          "text": [
            "Random Forest Classifier ROC AUC Score: 0.9968400940623163\n"
          ]
        }
      ]
    },
    {
      "cell_type": "code",
      "source": [
        "#42. Train a Bagging Classifier and evaluate its performance using cross-validation\n",
        "\n",
        "from sklearn.model_selection import cross_val_score\n",
        "from sklearn.datasets import load_iris\n",
        "from sklearn.ensemble import BaggingClassifier\n",
        "from sklearn.tree import DecisionTreeClassifier\n",
        "\n",
        "data = load_iris()\n",
        "X = data.data\n",
        "y = data.target\n",
        "\n",
        "bagging_clf = BaggingClassifier(\n",
        "    estimator=DecisionTreeClassifier(),\n",
        "    n_estimators=10,\n",
        "    random_state=42\n",
        ")\n",
        "\n",
        "scores = cross_val_score(bagging_clf, X, y, cv=5)\n",
        "\n",
        "print(\"Cross-validation scores for Bagging Classifier:\", scores)\n",
        "print(\"Mean cross-validation accuracy:\", scores.mean())\n",
        "print(\"Standard deviation of cross-validation accuracy:\", scores.std())"
      ],
      "metadata": {
        "colab": {
          "base_uri": "https://localhost:8080/"
        },
        "id": "cXzyW9AB6iXN",
        "outputId": "dd1630bd-c36f-4beb-8763-3a1f590027c9"
      },
      "execution_count": 27,
      "outputs": [
        {
          "output_type": "stream",
          "name": "stdout",
          "text": [
            "Cross-validation scores for Bagging Classifier: [0.96666667 0.96666667 0.9        0.93333333 1.        ]\n",
            "Mean cross-validation accuracy: 0.9533333333333334\n",
            "Standard deviation of cross-validation accuracy: 0.03399346342395189\n"
          ]
        }
      ]
    },
    {
      "cell_type": "code",
      "source": [
        "# 43. Train a Random Forest Classifier and plot the Precision-Recall curve\n",
        "\n",
        "from sklearn.metrics import precision_recall_curve, auc\n",
        "import matplotlib.pyplot as plt\n",
        "import seaborn as sns\n",
        "from sklearn.ensemble import StackingClassifier\n",
        "from sklearn.neighbors import KNeighborsRegressor\n",
        "from sklearn.model_selection import cross_val_score\n",
        "from sklearn.metrics import precision_score, recall_score, f1_score\n",
        "\n",
        "breast_cancer_data = load_breast_cancer()\n",
        "X = breast_cancer_data.data\n",
        "y = breast_cancer_data.target\n",
        "\n",
        "X_train, X_test, y_train, y_test = train_test_split(X, y, test_size=0.3, random_state=42)\n",
        "\n",
        "rf_clf = RandomForestClassifier(n_estimators=100, random_state=42)\n",
        "\n",
        "rf_clf.fit(X_train, y_train)\n",
        "\n",
        "y_pred_proba = rf_clf.predict_proba(X_test)[:, 1]\n",
        "\n",
        "precision, recall, thresholds = precision_recall_curve(y_test, y_pred_proba)\n",
        "\n",
        "pr_auc = auc(recall, precision)\n",
        "\n",
        "plt.figure(figsize=(8, 6))\n",
        "plt.plot(recall, precision, marker='.', label=f'Random Forest (AUPRC = {pr_auc:.2f})')\n",
        "plt.xlabel('Recall')\n",
        "plt.ylabel('Precision')\n",
        "plt.title('Precision-Recall Curve')\n",
        "plt.legend()\n",
        "plt.grid(True)\n",
        "plt.show()\n",
        "\n",
        "print(f\"Area Under the Precision-Recall Curve (AUPRC): {pr_auc:.4f}\")\n"
      ],
      "metadata": {
        "colab": {
          "base_uri": "https://localhost:8080/",
          "height": 581
        },
        "id": "eZuZvmLG6pYu",
        "outputId": "fc2f710e-792d-4576-9b31-a07568bbe335"
      },
      "execution_count": 28,
      "outputs": [
        {
          "output_type": "display_data",
          "data": {
            "text/plain": [
              "<Figure size 800x600 with 1 Axes>"
            ],
            "image/png": "[encoded data removed]"
          },
          "metadata": {}
        },
        {
          "output_type": "stream",
          "name": "stdout",
          "text": [
            "Area Under the Precision-Recall Curve (AUPRC): 0.9982\n"
          ]
        }
      ]
    },
    {
      "cell_type": "code",
      "source": [
        "#44.  Train a Stacking Classifier with Random Forest and Logistic Regression and compare accuracy\n",
        "\n",
        "from sklearn.ensemble import StackingClassifier\n",
        "from sklearn.metrics import accuracy_score\n",
        "from sklearn.datasets import load_iris\n",
        "from sklearn.model_selection import train_test_split\n",
        "from sklearn.ensemble import RandomForestClassifier\n",
        "from sklearn.linear_model import LogisticRegression\n",
        "from sklearn.tree import DecisionTreeClassifier\n",
        "\n",
        "data = load_iris()\n",
        "X = data.data\n",
        "y = data.target\n",
        "\n",
        "X_train, X_test, y_train, y_test = train_test_split(X, y, test_size=0.3, random_state=42)\n",
        "\n",
        "estimators = [\n",
        "    ('rf', RandomForestClassifier(n_estimators=100, random_state=42)),\n",
        "    ('lr', LogisticRegression(random_state=42))\n",
        "]\n",
        "\n",
        "final_estimator = LogisticRegression(random_state=42)\n",
        "\n",
        "stacking_clf = StackingClassifier(\n",
        "    estimators=estimators,\n",
        "    final_estimator=final_estimator,\n",
        "    cv=5\n",
        ")\n",
        "\n",
        "stacking_clf.fit(X_train, y_train)\n",
        "\n",
        "y_pred_stacking = stacking_clf.predict(X_test)\n",
        "\n",
        "accuracy_stacking = accuracy_score(y_test, y_pred_stacking)\n",
        "print(\"Stacking Classifier (RF + LR) Accuracy:\", accuracy_stacking)\n",
        "\n",
        "rf_clf = RandomForestClassifier(n_estimators=100, random_state=42)\n",
        "rf_clf.fit(X_train, y_train)\n",
        "y_pred_rf = rf_clf.predict(X_test)\n",
        "accuracy_rf = accuracy_score(y_test, y_pred_rf)\n",
        "print(\"Random Forest Classifier Accuracy:\", accuracy_rf)\n",
        "\n",
        "lr_clf = LogisticRegression(random_state=42)\n",
        "lr_clf.fit(X_train, y_train)\n",
        "y_pred_lr = lr_clf.predict(X_test)\n",
        "accuracy_lr = accuracy_score(y_test, y_pred_lr)\n",
        "print(\"Logistic Regression Accuracy:\", accuracy_lr)\n",
        "\n",
        "print(\"\\nComparison of Accuracies:\")\n",
        "print(f\"Random Forest: {accuracy_rf:.4f}\")\n",
        "print(f\"Logistic Regression: {accuracy_lr:.4f}\")\n",
        "print(f\"Stacking Classifier (RF + LR): {accuracy_stacking:.4f}\")\n"
      ],
      "metadata": {
        "colab": {
          "base_uri": "https://localhost:8080/"
        },
        "id": "HYvppB5z6x5Y",
        "outputId": "176c3fb8-c0e9-4186-966e-0cccc8aa342d"
      },
      "execution_count": 29,
      "outputs": [
        {
          "output_type": "stream",
          "name": "stdout",
          "text": [
            "Stacking Classifier (RF + LR) Accuracy: 1.0\n",
            "Random Forest Classifier Accuracy: 1.0\n",
            "Logistic Regression Accuracy: 1.0\n",
            "\n",
            "Comparison of Accuracies:\n",
            "Random Forest: 1.0000\n",
            "Logistic Regression: 1.0000\n",
            "Stacking Classifier (RF + LR): 1.0000\n"
          ]
        }
      ]
    },
    {
      "cell_type": "code",
      "source": [
        "#45. Train a Bagging Regressor with different levels of bootstrap samples and compare performance.\n",
        "\n",
        "import matplotlib.pyplot as plt\n",
        "\n",
        "data = fetch_california_housing()\n",
        "X = data.data\n",
        "y = data.target\n",
        "\n",
        "X_train, X_test, y_train, y_test = train_test_split(X, y, test_size=0.3, random_state=42)\n",
        "\n",
        "n_estimators_list = [10, 50, 100, 200, 500]\n",
        "mse_scores = {}\n",
        "\n",
        "print(\"Comparing Bagging Regressor performance with different numbers of bootstrap samples (n_estimators):\")\n",
        "for n_estimators in n_estimators_list:\n",
        "\n",
        "  bagging_reg = BaggingRegressor(\n",
        "      estimator=DecisionTreeRegressor(),\n",
        "      n_estimators=n_estimators,\n",
        "      random_state=42\n",
        "  )\n",
        "\n",
        "\n",
        "  bagging_reg.fit(X_train, y_train)\n",
        "\n",
        "  y_pred = bagging_reg.predict(X_test)\n",
        "  mse = mean_squared_error(y_test, y_pred)\n",
        "  mse_scores[n_estimators] = mse\n",
        "  print(f\"  Number of bootstrap samples = {n_estimators}: Mean Squared Error = {mse:.4f}\")\n",
        "\n",
        "plt.figure(figsize=(10, 6))\n",
        "plt.plot(list(mse_scores.keys()), list(mse_scores.values()), marker='o')\n",
        "plt.title(\"Bagging Regressor Performance vs. Number of Bootstrap Samples\")\n",
        "plt.xlabel(\"Number of Bootstrap Samples (n_estimators)\")\n",
        "plt.ylabel(\"Mean Squared Error\")\n",
        "plt.grid(True)\n",
        "plt.show()\n",
        "\n",
        "print(\"\\nSummary of Mean Squared Error Scores:\")\n",
        "for n_estimators, mse in mse_scores.items():\n",
        "  print(f\"  {n_estimators} bootstrap samples: {mse:.4f}\")\n"
      ],
      "metadata": {
        "colab": {
          "base_uri": "https://localhost:8080/",
          "height": 790
        },
        "id": "9Dmqv3UN6_tC",
        "outputId": "b9d12b5d-776d-4673-9b96-2a01be5f7f99"
      },
      "execution_count": 30,
      "outputs": [
        {
          "output_type": "stream",
          "name": "stdout",
          "text": [
            "Comparing Bagging Regressor performance with different numbers of bootstrap samples (n_estimators):\n",
            "  Number of bootstrap samples = 10: Mean Squared Error = 0.2862\n",
            "  Number of bootstrap samples = 50: Mean Squared Error = 0.2579\n",
            "  Number of bootstrap samples = 100: Mean Squared Error = 0.2568\n",
            "  Number of bootstrap samples = 200: Mean Squared Error = 0.2542\n",
            "  Number of bootstrap samples = 500: Mean Squared Error = 0.2527\n"
          ]
        },
        {
          "output_type": "display_data",
          "data": {
            "text/plain": [
              "<Figure size 1000x600 with 1 Axes>"
            ],
            "image/png": "[encoded data removed]"
          },
          "metadata": {}
        },
        {
          "output_type": "stream",
          "name": "stdout",
          "text": [
            "\n",
            "Summary of Mean Squared Error Scores:\n",
            "  10 bootstrap samples: 0.2862\n",
            "  50 bootstrap samples: 0.2579\n",
            "  100 bootstrap samples: 0.2568\n",
            "  200 bootstrap samples: 0.2542\n",
            "  500 bootstrap samples: 0.2527\n"
          ]
        }
      ]
    }
  ]
}